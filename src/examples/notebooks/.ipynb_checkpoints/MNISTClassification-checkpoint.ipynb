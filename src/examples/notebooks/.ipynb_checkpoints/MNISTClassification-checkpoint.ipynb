{
 "cells": [
  {
   "cell_type": "markdown",
   "id": "90bd8b48-8754-4e59-a775-8db90f5bbd57",
   "metadata": {},
   "source": [
    "# Using FACE to get feature attributions in MNIST"
   ]
  },
  {
   "cell_type": "markdown",
   "id": "43d3fb70-b845-4aee-8f62-2bff2d4c16c0",
   "metadata": {},
   "source": [
    "## Image classification problem - MNIST dataset"
   ]
  },
  {
   "cell_type": "markdown",
   "id": "99a7ed00-850b-4233-9be2-a8b393cb4739",
   "metadata": {},
   "source": [
    "### This notebook presents the utilization of FACE to get the feature attributions observed in a trained Multilayer Perceptron for a sample using heatmaps."
   ]
  },
  {
   "cell_type": "markdown",
   "id": "f779ed4a-8cd7-4838-9e9f-5418bf3b23de",
   "metadata": {},
   "source": [
    "## Load general libraries"
   ]
  },
  {
   "cell_type": "code",
   "execution_count": 1,
   "id": "7ad500dc-945a-4e45-8d94-53225b77096f",
   "metadata": {},
   "outputs": [],
   "source": [
    "# -*- coding: utf-8 -*-\n",
    "\n",
    "#!git clone https://github.com/CarlesBou/mlpxai.git\n",
    "#!cd mlpxai/src/examples/notebooks\n",
    "\n",
    "'''\n",
    "Adjust import paths if needed\n",
    "'''\n",
    "import os\n",
    "import sys\n",
    "\n",
    "#print(os.getcwd())\n",
    "\n",
    "sys.path.insert(0, os.path.dirname(os.path.dirname(os.getcwd())))\n",
    "sys.path.insert(0, os.path.dirname(os.getcwd()))\n",
    "\n",
    "#sys.path.insert(0, os.path.dirname(os.path.dirname(os.path.abspath(__file__))))"
   ]
  },
  {
   "cell_type": "code",
   "execution_count": 6,
   "id": "7ea41919-61a4-4438-83f7-5973ec0679d4",
   "metadata": {},
   "outputs": [],
   "source": [
    "'''\n",
    "Import general libraries\n",
    "'''\n",
    "import keras\n",
    "from keras.utils.generic_utils import get_custom_objects\n",
    "from keras.datasets import mnist\n",
    "from keras.models import Model\n",
    "\n",
    "from sklearn.model_selection import train_test_split\n",
    "from sklearn.preprocessing import MinMaxScaler\n",
    "\n",
    "from tensorflow.keras.utils import to_categorical\n",
    "from tensorflow.keras.layers import Input, Dense\n",
    "import tensorflow as tf\n",
    "\n",
    "import pandas as pd\n",
    "import numpy as np\n",
    "\n",
    "import warnings\n",
    "warnings.simplefilter(action='ignore', category=FutureWarning)"
   ]
  },
  {
   "cell_type": "markdown",
   "id": "603f88b8-06dc-4406-895c-878bcd362c4b",
   "metadata": {},
   "source": [
    "## Load FACE module from mlpxai library"
   ]
  },
  {
   "cell_type": "code",
   "execution_count": 7,
   "id": "a8ad2efe-d298-41b5-95c5-15d8cbcd3ff6",
   "metadata": {},
   "outputs": [],
   "source": [
    "from mlpxai.explainers.face.kerasmlp import get_face_contrib # Key funtion to perform FACE feature attribution computation\n",
    "from mlpxai.utils.visualize import plot_MNIST_digit          # Support module to displat feature attrubution bars"
   ]
  },
  {
   "cell_type": "markdown",
   "id": "660abaaa-3878-4c01-aad4-41f0642350b3",
   "metadata": {},
   "source": [
    "## Load the dataset of a tabular classification problem"
   ]
  },
  {
   "cell_type": "code",
   "execution_count": 8,
   "id": "47e1cc10-108b-41d8-a00b-968ba1309dc4",
   "metadata": {},
   "outputs": [],
   "source": [
    "'''\n",
    "Classfication tabular problem using 'Liver Disorder' dataset\n",
    "'''\n",
    "seed = 1\n",
    "# np.seed = 1\n",
    "# random.seed = 1\n",
    "# tf.random.set_seed(1)\n",
    "keras.utils.set_random_seed(seed)\n",
    "\n",
    "ds_name = 'MNIST'\n",
    "\n",
    "(X_train, y_train), (X_test, y_test) = mnist.load_data()\n",
    "\n",
    "num_inputs = 28 * 28\n",
    "num_outputs = 10\n",
    "\n",
    "dataset_name = 'MNIST'\n",
    "\n",
    "input_layer = Input(shape=(num_inputs,))\n",
    "hidden_layer = Dense(num_inputs * 2, activation='relu')(input_layer)\n",
    "hidden_layer = Dense(5, activation='relu')(hidden_layer)\n",
    "output_layer = Dense(num_outputs, activation='linear')(hidden_layer)\n",
    "\n",
    "model_version = 0\n",
    "\n",
    "validation_split = 0.1 \n",
    "epochs = 10\n",
    "\n",
    "use_saved_model_weights = True # Use pretrained model if available"
   ]
  },
  {
   "cell_type": "markdown",
   "id": "16026d39-8180-478c-a29a-1db1dedc8a2d",
   "metadata": {},
   "source": [
    "## Define the Keras network model"
   ]
  },
  {
   "cell_type": "code",
   "execution_count": 9,
   "id": "97315e15-eb46-4eaf-9edd-398b8caba959",
   "metadata": {},
   "outputs": [],
   "source": [
    "'''\n",
    "Define the network model structure (2 hidden layers using ReLUs)\n",
    "'''\n",
    "input_layer = Input(shape=(num_inputs,))\n",
    "hidden_layer = Dense(num_inputs * 2, activation='relu')(input_layer)\n",
    "hidden_layer = Dense(5, activation='relu')(hidden_layer)\n",
    "output_layer = Dense(num_outputs, activation='linear')(hidden_layer)\n",
    "\n",
    "model_version = 0\n",
    "\n",
    "validation_split = 0.1 \n",
    "epochs = 10\n",
    "\n",
    "use_saved_model_weights = True # Use pretrained model if available\n",
    "\n",
    "'''\n",
    "Scale the input in range [0, 1]\n",
    "'''\n",
    "X_train = X_train.astype(np.float32) / 255. #Transform integer pixel values to [0,1]\n",
    "X_train = X_train.reshape(-1, num_inputs)     #Transfor image matrix into vector\n",
    "X_test = X_test.astype(np.float32) / 255.   #Transform integer pixel values to [0,1]\n",
    "X_test = X_test.reshape(-1, num_inputs)       #Transfor image matrix into vector\n",
    "    \n",
    "y_train_categorical = to_categorical(y_train, num_outputs).astype(np.float32)"
   ]
  },
  {
   "cell_type": "markdown",
   "id": "040961fc-03d5-4ef5-ae21-d467b090aeee",
   "metadata": {},
   "source": [
    "## Compile and train the model using the training dataset"
   ]
  },
  {
   "cell_type": "code",
   "execution_count": 10,
   "id": "b3a60548-c8c2-4983-bb82-37b0f72e4726",
   "metadata": {},
   "outputs": [
    {
     "name": "stdout",
     "output_type": "stream",
     "text": [
      "Using pretrained classification model weights from file MNIST_classfication_seed_1_epochs_10.weights.h5\n"
     ]
    }
   ],
   "source": [
    "'''\n",
    "Define and compile the Keras model\n",
    "'''\n",
    "model = Model(inputs=input_layer, outputs=output_layer)\n",
    "\n",
    "model.compile(optimizer='nadam', loss='mean_squared_error')\n",
    "\n",
    "'''\n",
    "As the Delta Elevators dataset takes some time to be compiled,\n",
    "we save the model as soon it is compiled for the first time to avoid\n",
    "long time waiting.\n",
    "'''\n",
    "weights_file_name = f'{ds_name}_classfication_seed_{seed}_epochs_{epochs}.weights.h5'\n",
    "\n",
    "if use_saved_model_weights:\n",
    "    if os.path.isfile(weights_file_name):\n",
    "        model.load_weights(weights_file_name)\n",
    "        print(f'Using pretrained classification model weights from file {weights_file_name}')\n",
    "    else:\n",
    "        print('Training classification model ... ', end='')\n",
    "        my_fit = model.fit(X_train, y_train_categorical,\n",
    "                           epochs=epochs, validation_split=validation_split, verbose=0)\n",
    "        model.save_weights(weights_file_name)\n",
    "        print('OK')\n",
    "else:\n",
    "    print('Training classification model ... ', end='')\n",
    "    my_fit = model.fit(X_train, y_train_categorical,\n",
    "                       epochs=epochs, validation_split=validation_split, verbose=0)\n",
    "    print('OK')"
   ]
  },
  {
   "cell_type": "markdown",
   "id": "612324a5-aa53-42bc-bee8-e79aba8a8136",
   "metadata": {},
   "source": [
    "## Run a model prediction over the test set to show the performance of the model"
   ]
  },
  {
   "cell_type": "code",
   "execution_count": 11,
   "id": "cbadc9ff-849f-427e-84b7-1fb63313ff4d",
   "metadata": {},
   "outputs": [
    {
     "name": "stdout",
     "output_type": "stream",
     "text": [
      "Generating predictions for test data ... OK\n",
      "Test data accuracy = 0.97480\n",
      "\n"
     ]
    }
   ],
   "source": [
    "print('Generating predictions for test data ... ', end='')\n",
    "\n",
    "predictions = model.predict(X_test, verbose=0)\n",
    "\n",
    "y_mlp = np.argmax(predictions, axis=1)\n",
    "\n",
    "print('OK')\n",
    "\n",
    "accuracy = np.sum(np.argmax(predictions, axis=1) == y_test) / len(y_test)\n",
    "\n",
    "print(f'Test data accuracy = {accuracy:.5f}\\n')"
   ]
  },
  {
   "cell_type": "markdown",
   "id": "f7b013a4-11a0-4fa2-b77d-3f692df22f2e",
   "metadata": {},
   "source": [
    "## Compute the feature attribution using FACE and display digits"
   ]
  },
  {
   "cell_type": "code",
   "execution_count": 13,
   "id": "8fa6a475-1fc6-44fa-9fd5-4555c076e596",
   "metadata": {},
   "outputs": [
    {
     "name": "stdout",
     "output_type": "stream",
     "text": [
      "Computing FACE attributions for test sample 8535 ground/net/FACE=0/0/0 ... OK\n"
     ]
    },
    {
     "data": {
      "image/png": "[encoded data removed]",
      "text/plain": [
       "<Figure size 480x276 with 2 Axes>"
      ]
     },
     "metadata": {},
     "output_type": "display_data"
    },
    {
     "name": "stdout",
     "output_type": "stream",
     "text": [
      "Computing FACE attributions for test sample 8330 ground/net/FACE=8/8/8 ... OK\n"
     ]
    },
    {
     "data": {
      "image/png": "[encoded data removed]",
      "text/plain": [
       "<Figure size 480x276 with 2 Axes>"
      ]
     },
     "metadata": {},
     "output_type": "display_data"
    },
    {
     "name": "stdout",
     "output_type": "stream",
     "text": [
      "Computing FACE attributions for test sample 8841 ground/net/FACE=9/9/9 ... OK\n"
     ]
    },
    {
     "data": {
      "image/png": "[encoded data removed]",
      "text/plain": [
       "<Figure size 480x276 with 2 Axes>"
      ]
     },
     "metadata": {},
     "output_type": "display_data"
    }
   ],
   "source": [
    "'''\n",
    "Select some samples to explain and display their saliency maps\n",
    "'''\n",
    "samples = [8535, 8330, 8841]\n",
    "\n",
    "for sample in samples:\n",
    "\n",
    "    print(f'Computing FACE attributions for test sample {sample} ground/net/FACE={y_test[sample]}/{y_mlp[sample]}/', end='')\n",
    "    \n",
    "    FACE_contrib = get_face_contrib(X_test[sample], model)\n",
    "    \n",
    "    y_FACE = np.argmax(np.sum(FACE_contrib, axis=1))\n",
    "    \n",
    "    print(f'{y_FACE} ... OK')\n",
    "    \n",
    "    y_truth = y_test[sample]\n",
    "        \n",
    "    contrib = np.array([FACE_contrib[y_truth][1:]])\n",
    "    \n",
    "    plot_MNIST_digit(X_test[sample], contrib, resize=0.6)"
   ]
  }
 ],
 "metadata": {
  "kernelspec": {
   "display_name": "Python 3 (ipykernel)",
   "language": "python",
   "name": "python3"
  },
  "language_info": {
   "codemirror_mode": {
    "name": "ipython",
    "version": 3
   },
   "file_extension": ".py",
   "mimetype": "text/x-python",
   "name": "python",
   "nbconvert_exporter": "python",
   "pygments_lexer": "ipython3",
   "version": "3.10.17"
  }
 },
 "nbformat": 4,
 "nbformat_minor": 5
}
