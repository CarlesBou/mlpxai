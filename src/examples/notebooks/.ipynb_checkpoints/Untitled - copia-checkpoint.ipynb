{
 "cells": [
  {
   "cell_type": "markdown",
   "id": "90bd8b48-8754-4e59-a775-8db90f5bbd57",
   "metadata": {},
   "source": [
    "# Using FACE to get feature attributions (Tabular Classification problem)"
   ]
  },
  {
   "cell_type": "markdown",
   "id": "f779ed4a-8cd7-4838-9e9f-5418bf3b23de",
   "metadata": {},
   "source": [
    "## Load general libraries"
   ]
  },
  {
   "cell_type": "code",
   "execution_count": 12,
   "id": "7ad500dc-945a-4e45-8d94-53225b77096f",
   "metadata": {},
   "outputs": [],
   "source": [
    "# -*- coding: utf-8 -*-\n",
    "\n",
    "#!git clone https://github.com/CarlesBou/mlpxai.git\n",
    "#!cd mlpxai/src/examples/notebooks\n",
    "\n",
    "'''\n",
    "Adjust import paths if needed\n",
    "'''\n",
    "import os\n",
    "import sys\n",
    "\n",
    "#print(os.getcwd())\n",
    "\n",
    "sys.path.insert(0, os.path.dirname(os.path.dirname(os.getcwd())))\n",
    "sys.path.insert(0, os.path.dirname(os.getcwd()))\n",
    "\n",
    "#sys.path.insert(0, os.path.dirname(os.path.dirname(os.path.abspath(__file__))))"
   ]
  },
  {
   "cell_type": "code",
   "execution_count": 14,
   "id": "7ea41919-61a4-4438-83f7-5973ec0679d4",
   "metadata": {},
   "outputs": [],
   "source": [
    "'''\n",
    "Import general libraries\n",
    "'''\n",
    "import keras\n",
    "from keras.models import Model\n",
    "# from keras.utils.generic_utils import get_custom_objects\n",
    "\n",
    "from sklearn.model_selection import train_test_split\n",
    "from sklearn.preprocessing import MinMaxScaler\n",
    "\n",
    "from tensorflow.keras.utils import to_categorical\n",
    "from tensorflow.keras.layers import Input, Dense\n",
    "import tensorflow as tf\n",
    "\n",
    "import pandas as pd\n",
    "import numpy as np\n",
    "\n",
    "import warnings\n",
    "warnings.simplefilter(action='ignore', category=FutureWarning)"
   ]
  },
  {
   "cell_type": "markdown",
   "id": "603f88b8-06dc-4406-895c-878bcd362c4b",
   "metadata": {},
   "source": [
    "## Load FACE module from mlpxai library"
   ]
  },
  {
   "cell_type": "code",
   "execution_count": 15,
   "id": "a8ad2efe-d298-41b5-95c5-15d8cbcd3ff6",
   "metadata": {},
   "outputs": [],
   "source": [
    "from mlpxai.explainers.face.kerasmlp import get_face_contrib # Key funtion to perform FACE feature attribution computation\n",
    "from mlpxai.utils.visualize import plot_bar_contrib          # Support module to displat feature attrubution bars"
   ]
  },
  {
   "cell_type": "markdown",
   "id": "660abaaa-3878-4c01-aad4-41f0642350b3",
   "metadata": {},
   "source": [
    "## Load the dataset of a tabular classification problem"
   ]
  },
  {
   "cell_type": "code",
   "execution_count": 16,
   "id": "47e1cc10-108b-41d8-a00b-968ba1309dc4",
   "metadata": {},
   "outputs": [],
   "source": [
    "'''\n",
    "Classfication tabular problem using 'Liver Disorder' dataset\n",
    "'''\n",
    "\n",
    "# np.seed = 1\n",
    "# random.seed = 1\n",
    "# tf.random.set_seed(1)\n",
    "keras.utils.set_random_seed(1)\n",
    "\n",
    "ds_name = 'liver'\n",
    "dataset_name = 'Liver disorder'\n",
    "liver_drinks = 7\n",
    "\n",
    "'''\n",
    "Load the Liver disorder dataset\n",
    "\n",
    "  Attribute information:\n",
    "   1. mcv\tmean corpuscular volume\n",
    "   2. alkphos\talkaline phosphotase\n",
    "   3. sgpt\talamine aminotransferase\n",
    "   4. sgot \taspartate aminotransferase\n",
    "   5. gammagt\tgamma-glutamyl transpeptidase\n",
    "   6. drinks\tnumber of half-pint equivalents of alcoholic beverages\n",
    "                drunk per day --> Target. Dichotimeze with\n",
    "                Class 0 as drinks < 7, Class 1 with drinks >= 7\n",
    "   7. selector  field used to split data into two sets --> Ignored\n",
    "\n",
    "'''\n",
    "\n",
    "liver_df = pd.read_csv('sample_data/liver.csv', delimiter=';')\n",
    "\n",
    "X = liver_df.iloc[:, :-2]\n",
    "y = pd.DataFrame(liver_df['drinks'])\n",
    "\n",
    "# Dichotomize target, number of drinks per day, in two classes\n",
    "y.loc[y['drinks'] < liver_drinks] = 0\n",
    "y.loc[y['drinks'] >= liver_drinks] = 1\n",
    "\n",
    "y = y.values.ravel().astype(int)\n",
    "\n",
    "feature_names = X.columns\n",
    "\n",
    "num_inputs = X.shape[1]\n",
    "num_outputs = 2\n",
    "\n",
    "\n"
   ]
  },
  {
   "cell_type": "markdown",
   "id": "16026d39-8180-478c-a29a-1db1dedc8a2d",
   "metadata": {},
   "source": [
    "## Define the Keras network model"
   ]
  },
  {
   "cell_type": "code",
   "execution_count": null,
   "id": "97315e15-eb46-4eaf-9edd-398b8caba959",
   "metadata": {},
   "outputs": [],
   "source": [
    "'''\n",
    "Define the network model structure (2 hidden layers using ReLUs)\n",
    "'''\n",
    "input_layer = Input(shape=(num_inputs,))\n",
    "hidden_layer = Dense(30, activation='relu')(input_layer)\n",
    "hidden_layer = Dense(5, activation='relu')(hidden_layer)    \n",
    "output_layer = Dense(num_outputs, activation='linear')(hidden_layer)\n",
    "\n",
    "test_size = 0.15\n",
    "validation_split = 0.10\n",
    "epochs = 70\n",
    "\n",
    "'''\n",
    "Scale the input in range [0, 1]\n",
    "'''\n",
    "scaler = MinMaxScaler()\n",
    "\n",
    "X = pd.DataFrame(scaler.fit_transform(X), columns=X.columns)\n",
    "\n",
    "'''\n",
    "Split the dataset in train/test sets\n",
    "'''\n",
    "X_train, X_test, y_train, y_test = train_test_split(X, y,\n",
    "                                                    test_size=test_size,\n",
    "                                                    shuffle=True,\n",
    "                                                    stratify=y)\n",
    "\n",
    "X_test = X_test.to_numpy()\n",
    "\n",
    "y_train_categorical = to_categorical(y_train, num_outputs).astype(np.float32)"
   ]
  },
  {
   "cell_type": "markdown",
   "id": "040961fc-03d5-4ef5-ae21-d467b090aeee",
   "metadata": {},
   "source": [
    "## Create the model and compile it"
   ]
  },
  {
   "cell_type": "code",
   "execution_count": 18,
   "id": "b3a60548-c8c2-4983-bb82-37b0f72e4726",
   "metadata": {},
   "outputs": [],
   "source": [
    "model = Model(inputs=input_layer, outputs=output_layer)\n",
    "\n",
    "model.compile(optimizer='nadam',\n",
    "              metrics=['accuracy'],\n",
    "              loss=tf.keras.losses.CategoricalCrossentropy(from_logits=True))"
   ]
  },
  {
   "cell_type": "markdown",
   "id": "6f24add8-12ed-4e6d-ade5-439935e8ab6c",
   "metadata": {},
   "source": [
    "## Train the model using the training dataset"
   ]
  },
  {
   "cell_type": "code",
   "execution_count": 19,
   "id": "058e3309-fada-4ab4-84f4-b99c93252d5a",
   "metadata": {},
   "outputs": [
    {
     "name": "stdout",
     "output_type": "stream",
     "text": [
      "Using dataset: Liver disorder, 341 samples (289 train / 52 test), 5 features, 2 classes\n",
      "Training classification model ... OK\n"
     ]
    }
   ],
   "source": [
    "print(f'Using dataset: {dataset_name}, {len(y)} samples ({len(y_train)} train / {len(y_test)} test), {num_inputs} features, {num_outputs} classes')\n",
    "\n",
    "print('Training classification model ... ', end='')\n",
    "\n",
    "my_fit = model.fit(X_train, y_train_categorical,\n",
    "                    epochs=epochs, validation_split=validation_split, verbose=0)\n",
    "\n",
    "print('OK')"
   ]
  },
  {
   "cell_type": "markdown",
   "id": "612324a5-aa53-42bc-bee8-e79aba8a8136",
   "metadata": {},
   "source": [
    "## Perform a model prediction over the test set to show the performance of the model"
   ]
  },
  {
   "cell_type": "code",
   "execution_count": 20,
   "id": "cbadc9ff-849f-427e-84b7-1fb63313ff4d",
   "metadata": {},
   "outputs": [
    {
     "name": "stdout",
     "output_type": "stream",
     "text": [
      "Generating predictions for test data ... OK\n",
      "Test data accuracy = 0.8846\n",
      "\n"
     ]
    }
   ],
   "source": [
    "print('Generating predictions for test data ... ', end='')\n",
    "\n",
    "predictions = model.predict(X_test, verbose=0)\n",
    "\n",
    "y_mlp = np.argmax(predictions, axis=1)\n",
    "\n",
    "print('OK')\n",
    "\n",
    "accuracy = np.sum(y_mlp == y_test) / len(y_test)\n",
    "\n",
    "print(f'Test data accuracy = {accuracy:.4f}\\n')"
   ]
  },
  {
   "cell_type": "markdown",
   "id": "f7b013a4-11a0-4fa2-b77d-3f692df22f2e",
   "metadata": {},
   "source": [
    "## Perform the feature attribution computation using FACE"
   ]
  },
  {
   "cell_type": "code",
   "execution_count": 26,
   "id": "8fa6a475-1fc6-44fa-9fd5-4555c076e596",
   "metadata": {},
   "outputs": [
    {
     "name": "stdout",
     "output_type": "stream",
     "text": [
      "FACE attributions for sample 43\n",
      "  Class 0: [ 0.95484032  0.32896234 -0.18163942 -0.05544087 -0.1640083  -0.11076466]\n",
      "  Class 1: [-1.10983027 -0.4779491   0.00851536 -0.0255018   0.15161711  0.08601518]\n"
     ]
    }
   ],
   "source": [
    "'''\n",
    "Select a sample\n",
    "'''\n",
    "sample = 43\n",
    "\n",
    "'''\n",
    "We compute the feature attributions for the sample only needing\n",
    "two parameters: the sample and the model to be analyzed\n",
    "'''\n",
    "face_contrib = get_face_contrib(X_test[sample], model)\n",
    "\n",
    "print(f'FACE attributions for sample {sample}')\n",
    "print(f'  Class 0: {face_contrib[0]}')\n",
    "print(f'  Class 1: {face_contrib[1]}')"
   ]
  },
  {
   "cell_type": "markdown",
   "id": "68f7513d-786e-4320-b03d-670207fd82a7",
   "metadata": {},
   "source": [
    "## Display the computed attributions if a bar plot"
   ]
  },
  {
   "cell_type": "code",
   "execution_count": 25,
   "id": "9ba94e26-0a79-4647-aa16-02ad21da993f",
   "metadata": {},
   "outputs": [
    {
     "name": "stdout",
     "output_type": "stream",
     "text": [
      "Plotting FACE feature attributions for test sample 43, class 0\n"
     ]
    },
    {
     "data": {
      "image/png": "[encoded data removed]",
      "text/plain": [
       "<Figure size 870x450 with 1 Axes>"
      ]
     },
     "metadata": {},
     "output_type": "display_data"
    }
   ],
   "source": [
    "'''\n",
    "Plot feature attributions for winning class\n",
    "  - The plot title contains information about the ground truth, the network prediction, \n",
    "    and FACE's predcition (Truth/Net/Exp). It also shows the intercept.\n",
    "  - Each feature is displayed with a bar and the computed attribution, shown in blue \n",
    "    for positive values and in red for negative ones.\n",
    "    \n",
    "'''\n",
    "winning_class = np.argmax(np.sum(face_contrib, axis=1))\n",
    "\n",
    "print(f'Plotting FACE feature attributions for test sample {sample}, class {winning_class}')\n",
    "\n",
    "y_face = np.argmax(np.sum(face_contrib, axis=1))\n",
    "    \n",
    "feature_values = scaler.inverse_transform(X_test[sample].reshape(1,-1))[0]\n",
    "\n",
    "plot_bar_contrib('classification', feature_names=feature_names, \n",
    "                contrib_class=face_contrib[winning_class],\n",
    "                pred_class=y_face,\n",
    "                real_class=y_test[sample],\n",
    "                sample_id=sample, \n",
    "                selected_class=winning_class, \n",
    "                title=f'Truth/Net/Exp={y_test[sample]}/{y_mlp[sample]}/{y_face} Intercept={face_contrib[winning_class, 0]:.04f}',\n",
    "                show_title=True,\n",
    "                max_features=num_inputs,\n",
    "                legend='FACE',\n",
    "                add_xlabel=True,\n",
    "                resize=0.6\n",
    "                )"
   ]
  },
  {
   "cell_type": "code",
   "execution_count": null,
   "id": "1b41ed46-7da8-4347-b3a2-2f6d4c41f785",
   "metadata": {},
   "outputs": [],
   "source": []
  },
  {
   "cell_type": "code",
   "execution_count": null,
   "id": "2c97d382-1361-43bb-ba2e-c92ef594738f",
   "metadata": {},
   "outputs": [],
   "source": []
  },
  {
   "cell_type": "code",
   "execution_count": null,
   "id": "77b1f611-dc5d-4935-8a52-e6af2a762ba9",
   "metadata": {},
   "outputs": [],
   "source": []
  }
 ],
 "metadata": {
  "kernelspec": {
   "display_name": "Python 3 (ipykernel)",
   "language": "python",
   "name": "python3"
  },
  "language_info": {
   "codemirror_mode": {
    "name": "ipython",
    "version": 3
   },
   "file_extension": ".py",
   "mimetype": "text/x-python",
   "name": "python",
   "nbconvert_exporter": "python",
   "pygments_lexer": "ipython3",
   "version": "3.10.17"
  }
 },
 "nbformat": 4,
 "nbformat_minor": 5
}
